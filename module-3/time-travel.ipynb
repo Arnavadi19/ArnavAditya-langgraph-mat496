{
 "cells": [
  {
   "cell_type": "markdown",
   "id": "9902a6a3",
   "metadata": {},
   "source": [
    "[![Open in Colab](https://colab.research.google.com/assets/colab-badge.svg)](https://colab.research.google.com/github/langchain-ai/langchain-academy/blob/main/module-3/time-travel.ipynb) [![Open in LangChain Academy](https://cdn.prod.website-files.com/65b8cd72835ceeacd4449a53/66e9eba12c7b7688aa3dbb5e_LCA-badge-green.svg)](https://academy.langchain.com/courses/take/intro-to-langgraph/lessons/58239536-lesson-5-time-travel)"
   ]
  },
  {
   "cell_type": "markdown",
   "id": "ba98beac-d461-4d7d-878a-11beca03ea1c",
   "metadata": {},
   "source": [
    "# Time travel\n",
    "\n",
    "## Review\n",
    "\n",
    "We discussed motivations for human-in-the-loop:\n",
    "\n",
    "(1) `Approval` - We can interrupt our agent, surface state to a user, and allow the user to accept an action\n",
    "\n",
    "(2) `Debugging` - We can rewind the graph to reproduce or avoid issues\n",
    "\n",
    "(3) `Editing` - You can modify the state \n",
    "\n",
    "We showed how breakpoints can stop the graph at specific nodes or allow the graph to dynamically interrupt itself.\n",
    "\n",
    "Then we showed how to proceed with human approval or directly edit the graph state with human feedback.\n",
    "\n",
    "## Goals\n",
    "\n",
    "Now, let's show how LangGraph [supports debugging](https://langchain-ai.github.io/langgraph/how-tos/human_in_the_loop/time-travel/) by viewing, re-playing, and even forking from past states. \n",
    "\n",
    "We call this `time travel`."
   ]
  },
  {
   "cell_type": "code",
   "execution_count": 1,
   "id": "bd48aeb6-8478-4cb4-aef1-d524b80824d3",
   "metadata": {},
   "outputs": [],
   "source": [
    "%%capture --no-stderr\n",
    "%pip install --quiet -U langgraph langchain_openai langgraph_sdk langgraph-prebuilt"
   ]
  },
  {
   "cell_type": "code",
   "execution_count": 2,
   "id": "7d32093f",
   "metadata": {},
   "outputs": [],
   "source": [
    "import os, getpass\n",
    "\n",
    "def _set_env(var: str):\n",
    "    if not os.environ.get(var):\n",
    "        os.environ[var] = getpass.getpass(f\"{var}: \")\n",
    "\n",
    "_set_env(\"OPENAI_API_KEY\")"
   ]
  },
  {
   "cell_type": "markdown",
   "id": "0497d316-832a-4668-b133-fd317ee81220",
   "metadata": {},
   "source": [
    "Let's build our agent."
   ]
  },
  {
   "cell_type": "code",
   "execution_count": 3,
   "id": "d64ab3a1-b39c-4176-88c7-791a0b80c725",
   "metadata": {},
   "outputs": [],
   "source": [
    "from langchain_openai import ChatOpenAI\n",
    "\n",
    "def multiply(a: int, b: int) -> int:\n",
    "    \"\"\"Multiply a and b.\n",
    "\n",
    "    Args:\n",
    "        a: first int\n",
    "        b: second int\n",
    "    \"\"\"\n",
    "    return a * b\n",
    "\n",
    "# This will be a tool\n",
    "def add(a: int, b: int) -> int:\n",
    "    \"\"\"Adds a and b.\n",
    "\n",
    "    Args:\n",
    "        a: first int\n",
    "        b: second int\n",
    "    \"\"\"\n",
    "    return a + b\n",
    "\n",
    "def divide(a: int, b: int) -> float:\n",
    "    \"\"\"Divide a by b.\n",
    "\n",
    "    Args:\n",
    "        a: first int\n",
    "        b: second int\n",
    "    \"\"\"\n",
    "    return a / b\n",
    "\n",
    "tools = [add, multiply, divide]\n",
    "llm = ChatOpenAI(model=\"gpt-4o\")\n",
    "llm_with_tools = llm.bind_tools(tools)"
   ]
  },
  {
   "cell_type": "code",
   "execution_count": 4,
   "id": "1d8622a9-57cd-44dc-8696-46c5ab32d0b9",
   "metadata": {},
   "outputs": [
    {
     "data": {
      "image/png": "[encoded data removed]",
      "text/plain": [
       "<IPython.core.display.Image object>"
      ]
     },
     "metadata": {},
     "output_type": "display_data"
    }
   ],
   "source": [
    "from IPython.display import Image, display\n",
    "\n",
    "from langgraph.checkpoint.memory import MemorySaver\n",
    "from langgraph.graph import MessagesState\n",
    "from langgraph.graph import START, END, StateGraph\n",
    "from langgraph.prebuilt import tools_condition, ToolNode\n",
    "\n",
    "from langchain_core.messages import AIMessage, HumanMessage, SystemMessage\n",
    "\n",
    "# System message\n",
    "sys_msg = SystemMessage(content=\"You are a helpful assistant tasked with performing arithmetic on a set of inputs.\")\n",
    "\n",
    "# Node\n",
    "def assistant(state: MessagesState):\n",
    "   return {\"messages\": [llm_with_tools.invoke([sys_msg] + state[\"messages\"])]}\n",
    "\n",
    "# Graph\n",
    "builder = StateGraph(MessagesState)\n",
    "\n",
    "# Define nodes: these do the work\n",
    "builder.add_node(\"assistant\", assistant)\n",
    "builder.add_node(\"tools\", ToolNode(tools))\n",
    "\n",
    "# Define edges: these determine the control flow\n",
    "builder.add_edge(START, \"assistant\")\n",
    "builder.add_conditional_edges(\n",
    "    \"assistant\",\n",
    "    # If the latest message (result) from assistant is a tool call -> tools_condition routes to tools\n",
    "    # If the latest message (result) from assistant is a not a tool call -> tools_condition routes to END\n",
    "    tools_condition,\n",
    ")\n",
    "builder.add_edge(\"tools\", \"assistant\")\n",
    "\n",
    "memory = MemorySaver()\n",
    "graph = builder.compile(checkpointer=MemorySaver())\n",
    "\n",
    "# Show\n",
    "display(Image(graph.get_graph(xray=True).draw_mermaid_png()))"
   ]
  },
  {
   "cell_type": "markdown",
   "id": "fab18a04-1329-47ac-a25b-4e01bf756e2a",
   "metadata": {},
   "source": [
    "Let's run it, as before."
   ]
  },
  {
   "cell_type": "code",
   "execution_count": 5,
   "id": "05b2ab62-82bc-4356-8d5b-2d4f49069fdd",
   "metadata": {},
   "outputs": [
    {
     "name": "stdout",
     "output_type": "stream",
     "text": [
      "================================\u001b[1m Human Message \u001b[0m=================================\n",
      "\n",
      "Multiply 2 and 3\n",
      "==================================\u001b[1m Ai Message \u001b[0m==================================\n",
      "Tool Calls:\n",
      "  multiply (call_qHU6OrJeWCVV6uvdjrrQy0Ql)\n",
      " Call ID: call_qHU6OrJeWCVV6uvdjrrQy0Ql\n",
      "  Args:\n",
      "    a: 2\n",
      "    b: 3\n",
      "=================================\u001b[1m Tool Message \u001b[0m=================================\n",
      "Name: multiply\n",
      "\n",
      "6\n",
      "==================================\u001b[1m Ai Message \u001b[0m==================================\n",
      "\n",
      "The result of multiplying 2 and 3 is 6.\n"
     ]
    }
   ],
   "source": [
    "# Input\n",
    "initial_input = {\"messages\": HumanMessage(content=\"Multiply 2 and 3\")}\n",
    "\n",
    "# Thread\n",
    "thread = {\"configurable\": {\"thread_id\": \"1\"}}\n",
    "\n",
    "# Run the graph until the first interruption\n",
    "for event in graph.stream(initial_input, thread, stream_mode=\"values\"):\n",
    "    event['messages'][-1].pretty_print()"
   ]
  },
  {
   "cell_type": "markdown",
   "id": "268cfa43-22d1-4d63-8d81-a3ce00f1f2c8",
   "metadata": {},
   "source": [
    "## Browsing History\n",
    "\n",
    "We can use `get_state` to look at the **current** state of our graph, given the `thread_id`!"
   ]
  },
  {
   "cell_type": "code",
   "execution_count": 6,
   "id": "161eb053-18f6-4c99-8674-8cbd11cae57e",
   "metadata": {},
   "outputs": [
    {
     "data": {
      "text/plain": [
       "StateSnapshot(values={'messages': [HumanMessage(content='Multiply 2 and 3', additional_kwargs={}, response_metadata={}, id='1b29d737-e89c-4c34-87c9-c13e4d17c878'), AIMessage(content='', additional_kwargs={'tool_calls': [{'id': 'call_qHU6OrJeWCVV6uvdjrrQy0Ql', 'function': {'arguments': '{\"a\":2,\"b\":3}', 'name': 'multiply'}, 'type': 'function'}], 'refusal': None}, response_metadata={'token_usage': {'completion_tokens': 17, 'prompt_tokens': 131, 'total_tokens': 148, 'completion_tokens_details': {'accepted_prediction_tokens': 0, 'audio_tokens': 0, 'reasoning_tokens': 0, 'rejected_prediction_tokens': 0}, 'prompt_tokens_details': {'audio_tokens': 0, 'cached_tokens': 0}}, 'model_name': 'gpt-4o-2024-08-06', 'system_fingerprint': 'fp_65564d8ba5', 'id': 'chatcmpl-CVLG4iX44crdEZJNB0V5P2prDL9se', 'service_tier': 'default', 'finish_reason': 'tool_calls', 'logprobs': None}, id='run--1e4f6f7d-1e10-4f32-8a20-5394c70b4001-0', tool_calls=[{'name': 'multiply', 'args': {'a': 2, 'b': 3}, 'id': 'call_qHU6OrJeWCVV6uvdjrrQy0Ql', 'type': 'tool_call'}], usage_metadata={'input_tokens': 131, 'output_tokens': 17, 'total_tokens': 148, 'input_token_details': {'audio': 0, 'cache_read': 0}, 'output_token_details': {'audio': 0, 'reasoning': 0}}), ToolMessage(content='6', name='multiply', id='b9bd32e0-2428-45fb-8b3b-7c485b2cf20d', tool_call_id='call_qHU6OrJeWCVV6uvdjrrQy0Ql'), AIMessage(content='The result of multiplying 2 and 3 is 6.', additional_kwargs={'refusal': None}, response_metadata={'token_usage': {'completion_tokens': 14, 'prompt_tokens': 156, 'total_tokens': 170, 'completion_tokens_details': {'accepted_prediction_tokens': 0, 'audio_tokens': 0, 'reasoning_tokens': 0, 'rejected_prediction_tokens': 0}, 'prompt_tokens_details': {'audio_tokens': 0, 'cached_tokens': 0}}, 'model_name': 'gpt-4o-2024-08-06', 'system_fingerprint': 'fp_65564d8ba5', 'id': 'chatcmpl-CVLG5UzUrx5gt6epp8FG7F6WE2cDJ', 'service_tier': 'default', 'finish_reason': 'stop', 'logprobs': None}, id='run--cfb4dc4e-607b-4c3e-a96d-21a1e62cbab6-0', usage_metadata={'input_tokens': 156, 'output_tokens': 14, 'total_tokens': 170, 'input_token_details': {'audio': 0, 'cache_read': 0}, 'output_token_details': {'audio': 0, 'reasoning': 0}})]}, next=(), config={'configurable': {'thread_id': '1', 'checkpoint_ns': '', 'checkpoint_id': '1f0b359e-adb6-60ff-8003-4ae1b59b2713'}}, metadata={'source': 'loop', 'step': 3, 'parents': {}}, created_at='2025-10-27T17:25:22.219233+00:00', parent_config={'configurable': {'thread_id': '1', 'checkpoint_ns': '', 'checkpoint_id': '1f0b359e-a15a-61da-8002-711070892405'}}, tasks=(), interrupts=())"
      ]
     },
     "execution_count": 6,
     "metadata": {},
     "output_type": "execute_result"
    }
   ],
   "source": [
    "graph.get_state({'configurable': {'thread_id': '1'}})"
   ]
  },
  {
   "cell_type": "markdown",
   "id": "8d00869e-7b41-4d71-ad3c-cacf8f9c029f",
   "metadata": {},
   "source": [
    "We can also browse the state history of our agent.\n",
    "\n",
    "`get_state_history` lets us get the state at all prior steps.\n"
   ]
  },
  {
   "cell_type": "code",
   "execution_count": 7,
   "id": "3010169c-3bfa-498c-a30c-7ba53744e4d5",
   "metadata": {},
   "outputs": [],
   "source": [
    "all_states = [s for s in graph.get_state_history(thread)]"
   ]
  },
  {
   "cell_type": "code",
   "execution_count": 8,
   "id": "c4612ccf-59fc-4848-8845-0433fee2ca8e",
   "metadata": {},
   "outputs": [
    {
     "data": {
      "text/plain": [
       "5"
      ]
     },
     "execution_count": 8,
     "metadata": {},
     "output_type": "execute_result"
    }
   ],
   "source": [
    "len(all_states)"
   ]
  },
  {
   "cell_type": "markdown",
   "id": "af30f269-1152-4fa1-a7c6-2947acad9a27",
   "metadata": {},
   "source": [
    "The first element is the current state, just as we got from `get_state`."
   ]
  },
  {
   "cell_type": "code",
   "execution_count": 9,
   "id": "4e60b292-8efc-4cc3-b836-51f060fa608b",
   "metadata": {},
   "outputs": [
    {
     "data": {
      "text/plain": [
       "StateSnapshot(values={'messages': [HumanMessage(content='Multiply 2 and 3', additional_kwargs={}, response_metadata={}, id='1b29d737-e89c-4c34-87c9-c13e4d17c878')]}, next=('assistant',), config={'configurable': {'thread_id': '1', 'checkpoint_ns': '', 'checkpoint_id': '1f0b359e-9246-64f6-8000-861eedfd77d2'}}, metadata={'source': 'loop', 'step': 0, 'parents': {}}, created_at='2025-10-27T17:25:19.342295+00:00', parent_config={'configurable': {'thread_id': '1', 'checkpoint_ns': '', 'checkpoint_id': '1f0b359e-9244-6347-bfff-c82724edc8d6'}}, tasks=(PregelTask(id='e7c14634-e46b-79fa-9794-06de69c8a6d4', name='assistant', path=('__pregel_pull', 'assistant'), error=None, interrupts=(), state=None, result={'messages': [AIMessage(content='', additional_kwargs={'tool_calls': [{'id': 'call_qHU6OrJeWCVV6uvdjrrQy0Ql', 'function': {'arguments': '{\"a\":2,\"b\":3}', 'name': 'multiply'}, 'type': 'function'}], 'refusal': None}, response_metadata={'token_usage': {'completion_tokens': 17, 'prompt_tokens': 131, 'total_tokens': 148, 'completion_tokens_details': {'accepted_prediction_tokens': 0, 'audio_tokens': 0, 'reasoning_tokens': 0, 'rejected_prediction_tokens': 0}, 'prompt_tokens_details': {'audio_tokens': 0, 'cached_tokens': 0}}, 'model_name': 'gpt-4o-2024-08-06', 'system_fingerprint': 'fp_65564d8ba5', 'id': 'chatcmpl-CVLG4iX44crdEZJNB0V5P2prDL9se', 'service_tier': 'default', 'finish_reason': 'tool_calls', 'logprobs': None}, id='run--1e4f6f7d-1e10-4f32-8a20-5394c70b4001-0', tool_calls=[{'name': 'multiply', 'args': {'a': 2, 'b': 3}, 'id': 'call_qHU6OrJeWCVV6uvdjrrQy0Ql', 'type': 'tool_call'}], usage_metadata={'input_tokens': 131, 'output_tokens': 17, 'total_tokens': 148, 'input_token_details': {'audio': 0, 'cache_read': 0}, 'output_token_details': {'audio': 0, 'reasoning': 0}})]}),), interrupts=())"
      ]
     },
     "execution_count": 9,
     "metadata": {},
     "output_type": "execute_result"
    }
   ],
   "source": [
    "all_states[-2]"
   ]
  },
  {
   "attachments": {},
   "cell_type": "markdown",
   "id": "4148a710-ceed-413b-b93c-070c6c792fa2",
   "metadata": {},
   "source": [
    "Everything above we can visualize here: \n",
    "\n",
    "![fig1.jpg](https://cdn.prod.website-files.com/65b8cd72835ceeacd4449a53/66dbb038211b544898570be3_time-travel1.png)"
   ]
  },
  {
   "attachments": {},
   "cell_type": "markdown",
   "id": "a5ad554a-faf3-489f-a9a9-774f4ec2a526",
   "metadata": {},
   "source": [
    "## Replaying \n",
    "\n",
    "We can re-run our agent from any of the prior steps.\n",
    "\n",
    "![fig2.jpg](https://cdn.prod.website-files.com/65b8cd72835ceeacd4449a53/66dbb038a0bd34b541c78fb8_time-travel2.png)"
   ]
  },
  {
   "cell_type": "markdown",
   "id": "e135d2db-d613-42da-877e-d429f21aaefd",
   "metadata": {},
   "source": [
    "Let's look back at the step that recieved human input!"
   ]
  },
  {
   "cell_type": "code",
   "execution_count": 10,
   "id": "3688e511-a440-4330-a450-e5ed889c3b30",
   "metadata": {},
   "outputs": [],
   "source": [
    "to_replay = all_states[-2]"
   ]
  },
  {
   "cell_type": "code",
   "execution_count": 11,
   "id": "72adf296-d519-4bdc-af03-3b29799e9534",
   "metadata": {},
   "outputs": [
    {
     "data": {
      "text/plain": [
       "StateSnapshot(values={'messages': [HumanMessage(content='Multiply 2 and 3', additional_kwargs={}, response_metadata={}, id='1b29d737-e89c-4c34-87c9-c13e4d17c878')]}, next=('assistant',), config={'configurable': {'thread_id': '1', 'checkpoint_ns': '', 'checkpoint_id': '1f0b359e-9246-64f6-8000-861eedfd77d2'}}, metadata={'source': 'loop', 'step': 0, 'parents': {}}, created_at='2025-10-27T17:25:19.342295+00:00', parent_config={'configurable': {'thread_id': '1', 'checkpoint_ns': '', 'checkpoint_id': '1f0b359e-9244-6347-bfff-c82724edc8d6'}}, tasks=(PregelTask(id='e7c14634-e46b-79fa-9794-06de69c8a6d4', name='assistant', path=('__pregel_pull', 'assistant'), error=None, interrupts=(), state=None, result={'messages': [AIMessage(content='', additional_kwargs={'tool_calls': [{'id': 'call_qHU6OrJeWCVV6uvdjrrQy0Ql', 'function': {'arguments': '{\"a\":2,\"b\":3}', 'name': 'multiply'}, 'type': 'function'}], 'refusal': None}, response_metadata={'token_usage': {'completion_tokens': 17, 'prompt_tokens': 131, 'total_tokens': 148, 'completion_tokens_details': {'accepted_prediction_tokens': 0, 'audio_tokens': 0, 'reasoning_tokens': 0, 'rejected_prediction_tokens': 0}, 'prompt_tokens_details': {'audio_tokens': 0, 'cached_tokens': 0}}, 'model_name': 'gpt-4o-2024-08-06', 'system_fingerprint': 'fp_65564d8ba5', 'id': 'chatcmpl-CVLG4iX44crdEZJNB0V5P2prDL9se', 'service_tier': 'default', 'finish_reason': 'tool_calls', 'logprobs': None}, id='run--1e4f6f7d-1e10-4f32-8a20-5394c70b4001-0', tool_calls=[{'name': 'multiply', 'args': {'a': 2, 'b': 3}, 'id': 'call_qHU6OrJeWCVV6uvdjrrQy0Ql', 'type': 'tool_call'}], usage_metadata={'input_tokens': 131, 'output_tokens': 17, 'total_tokens': 148, 'input_token_details': {'audio': 0, 'cache_read': 0}, 'output_token_details': {'audio': 0, 'reasoning': 0}})]}),), interrupts=())"
      ]
     },
     "execution_count": 11,
     "metadata": {},
     "output_type": "execute_result"
    }
   ],
   "source": [
    "to_replay"
   ]
  },
  {
   "cell_type": "markdown",
   "id": "571e7894-6546-48ff-9c25-fa6d120391b3",
   "metadata": {},
   "source": [
    "Look at the state."
   ]
  },
  {
   "cell_type": "code",
   "execution_count": 12,
   "id": "6fe69428-f364-4330-bf5d-aa966c7f3b07",
   "metadata": {},
   "outputs": [
    {
     "data": {
      "text/plain": [
       "{'messages': [HumanMessage(content='Multiply 2 and 3', additional_kwargs={}, response_metadata={}, id='1b29d737-e89c-4c34-87c9-c13e4d17c878')]}"
      ]
     },
     "execution_count": 12,
     "metadata": {},
     "output_type": "execute_result"
    }
   ],
   "source": [
    "to_replay.values"
   ]
  },
  {
   "cell_type": "markdown",
   "id": "ff2df545-cc80-4962-a34a-faac7af8eb3d",
   "metadata": {},
   "source": [
    "We can see the next node to call."
   ]
  },
  {
   "cell_type": "code",
   "execution_count": 13,
   "id": "d2f333f9-9b2b-46f6-ac3a-525f86b20f1b",
   "metadata": {},
   "outputs": [
    {
     "data": {
      "text/plain": [
       "('assistant',)"
      ]
     },
     "execution_count": 13,
     "metadata": {},
     "output_type": "execute_result"
    }
   ],
   "source": [
    "to_replay.next"
   ]
  },
  {
   "cell_type": "markdown",
   "id": "b8938c18-5c22-47df-b71e-40afa73c87af",
   "metadata": {},
   "source": [
    "We also get the config, which tells us the `checkpoint_id` as well as the `thread_id`."
   ]
  },
  {
   "cell_type": "code",
   "execution_count": 14,
   "id": "b1298786-afa5-4277-927e-708a8629231b",
   "metadata": {},
   "outputs": [
    {
     "data": {
      "text/plain": [
       "{'configurable': {'thread_id': '1',\n",
       "  'checkpoint_ns': '',\n",
       "  'checkpoint_id': '1f0b359e-9246-64f6-8000-861eedfd77d2'}}"
      ]
     },
     "execution_count": 14,
     "metadata": {},
     "output_type": "execute_result"
    }
   ],
   "source": [
    "to_replay.config"
   ]
  },
  {
   "cell_type": "markdown",
   "id": "1d93b5eb-f541-4f82-93b1-48f54bf5cf83",
   "metadata": {},
   "source": [
    "To replay from here, we simply pass the config back to the agent!\n",
    "\n",
    "The graph knows that this checkpoint has aleady been executed. \n",
    "\n",
    "It just re-plays from this checkpoint!"
   ]
  },
  {
   "cell_type": "code",
   "execution_count": 15,
   "id": "531b4cd1-54f6-44aa-9ffe-cf5403dad65d",
   "metadata": {},
   "outputs": [
    {
     "name": "stdout",
     "output_type": "stream",
     "text": [
      "================================\u001b[1m Human Message \u001b[0m=================================\n",
      "\n",
      "Multiply 2 and 3\n",
      "==================================\u001b[1m Ai Message \u001b[0m==================================\n",
      "Tool Calls:\n",
      "  multiply (call_DQajevVZiT8dxIyo46i1ijR7)\n",
      " Call ID: call_DQajevVZiT8dxIyo46i1ijR7\n",
      "  Args:\n",
      "    a: 2\n",
      "    b: 3\n",
      "=================================\u001b[1m Tool Message \u001b[0m=================================\n",
      "Name: multiply\n",
      "\n",
      "6\n",
      "==================================\u001b[1m Ai Message \u001b[0m==================================\n",
      "\n",
      "The product of 2 and 3 is 6.\n"
     ]
    }
   ],
   "source": [
    "for event in graph.stream(None, to_replay.config, stream_mode=\"values\"):\n",
    "    event['messages'][-1].pretty_print()"
   ]
  },
  {
   "cell_type": "markdown",
   "id": "7d7a914e-63e6-4424-970f-15059ce9b4c3",
   "metadata": {},
   "source": [
    "Now, we can see our current state after the agent re-ran."
   ]
  },
  {
   "attachments": {},
   "cell_type": "markdown",
   "id": "5a5a1f03-19f2-4d22-ba54-1c065ff08e85",
   "metadata": {},
   "source": [
    "## Forking\n",
    "\n",
    "What if we want to run from that same step, but with a different input.\n",
    "\n",
    "This is forking.\n",
    "\n",
    "![fig3.jpg](https://cdn.prod.website-files.com/65b8cd72835ceeacd4449a53/66dbb038f89f2d847ee5c336_time-travel3.png)"
   ]
  },
  {
   "cell_type": "code",
   "execution_count": 16,
   "id": "cdeb5bf2-1566-4d8c-8ea5-65894e3a7038",
   "metadata": {},
   "outputs": [
    {
     "data": {
      "text/plain": [
       "[HumanMessage(content='Multiply 2 and 3', additional_kwargs={}, response_metadata={}, id='1b29d737-e89c-4c34-87c9-c13e4d17c878')]"
      ]
     },
     "execution_count": 16,
     "metadata": {},
     "output_type": "execute_result"
    }
   ],
   "source": [
    "to_fork = all_states[-2]\n",
    "to_fork.values[\"messages\"]"
   ]
  },
  {
   "cell_type": "markdown",
   "id": "4a15f6a6-6eaa-48d6-92bb-864ea3a31b6a",
   "metadata": {},
   "source": [
    "Again, we have the config."
   ]
  },
  {
   "cell_type": "code",
   "execution_count": 17,
   "id": "d1621b27-ee51-4dc3-81c4-1d05317280db",
   "metadata": {},
   "outputs": [
    {
     "data": {
      "text/plain": [
       "{'configurable': {'thread_id': '1',\n",
       "  'checkpoint_ns': '',\n",
       "  'checkpoint_id': '1f0b359e-9246-64f6-8000-861eedfd77d2'}}"
      ]
     },
     "execution_count": 17,
     "metadata": {},
     "output_type": "execute_result"
    }
   ],
   "source": [
    "to_fork.config"
   ]
  },
  {
   "cell_type": "markdown",
   "id": "c2102195-0583-4dbe-ad2f-02fac7915585",
   "metadata": {},
   "source": [
    "Let's modify the state at this checkpoint.\n",
    "\n",
    "We can just run `update_state` with the `checkpoint_id` supplied. \n",
    "\n",
    "Remember how our reducer on `messages` works: \n",
    "\n",
    "* It will append, unless we supply a message ID.\n",
    "* We supply the message ID to overwrite the message, rather than appending to state!\n",
    "\n",
    "So, to overwrite the the message, we just supply the message ID, which we have `to_fork.values[\"messages\"].id`."
   ]
  },
  {
   "cell_type": "code",
   "execution_count": 18,
   "id": "0b4a918d-858a-41ac-a5d4-e99260e2d6ec",
   "metadata": {},
   "outputs": [],
   "source": [
    "fork_config = graph.update_state(\n",
    "    to_fork.config,\n",
    "    {\"messages\": [HumanMessage(content='Multiply 5 and 3', \n",
    "                               id=to_fork.values[\"messages\"][0].id)]},\n",
    ")"
   ]
  },
  {
   "cell_type": "code",
   "execution_count": 19,
   "id": "8ff4e9bb-8221-42d1-b7d0-b0cbd5dc374a",
   "metadata": {},
   "outputs": [
    {
     "data": {
      "text/plain": [
       "{'configurable': {'thread_id': '1',\n",
       "  'checkpoint_ns': '',\n",
       "  'checkpoint_id': '1f0b359f-0266-61ef-8001-cfde6827851e'}}"
      ]
     },
     "execution_count": 19,
     "metadata": {},
     "output_type": "execute_result"
    }
   ],
   "source": [
    "fork_config"
   ]
  },
  {
   "cell_type": "markdown",
   "id": "bebfe6fd-c94b-4291-a125-ec6170e35bc5",
   "metadata": {},
   "source": [
    "This creates a new, forked checkpoint.\n",
    " \n",
    "But, the metadata - e.g., where to go next - is perserved! \n",
    "\n",
    "We can see the current state of our agent has been updated with our fork."
   ]
  },
  {
   "cell_type": "code",
   "execution_count": 20,
   "id": "586ce86c-1257-45e9-ba30-6287932b9484",
   "metadata": {},
   "outputs": [
    {
     "data": {
      "text/plain": [
       "[HumanMessage(content='Multiply 5 and 3', additional_kwargs={}, response_metadata={}, id='1b29d737-e89c-4c34-87c9-c13e4d17c878'),\n",
       " AIMessage(content='', additional_kwargs={'tool_calls': [{'id': 'call_qHU6OrJeWCVV6uvdjrrQy0Ql', 'function': {'arguments': '{\"a\":2,\"b\":3}', 'name': 'multiply'}, 'type': 'function'}], 'refusal': None}, response_metadata={'token_usage': {'completion_tokens': 17, 'prompt_tokens': 131, 'total_tokens': 148, 'completion_tokens_details': {'accepted_prediction_tokens': 0, 'audio_tokens': 0, 'reasoning_tokens': 0, 'rejected_prediction_tokens': 0}, 'prompt_tokens_details': {'audio_tokens': 0, 'cached_tokens': 0}}, 'model_name': 'gpt-4o-2024-08-06', 'system_fingerprint': 'fp_65564d8ba5', 'id': 'chatcmpl-CVLG4iX44crdEZJNB0V5P2prDL9se', 'service_tier': 'default', 'finish_reason': 'tool_calls', 'logprobs': None}, id='run--1e4f6f7d-1e10-4f32-8a20-5394c70b4001-0', tool_calls=[{'name': 'multiply', 'args': {'a': 2, 'b': 3}, 'id': 'call_qHU6OrJeWCVV6uvdjrrQy0Ql', 'type': 'tool_call'}], usage_metadata={'input_tokens': 131, 'output_tokens': 17, 'total_tokens': 148, 'input_token_details': {'audio': 0, 'cache_read': 0}, 'output_token_details': {'audio': 0, 'reasoning': 0}})]"
      ]
     },
     "execution_count": 20,
     "metadata": {},
     "output_type": "execute_result"
    }
   ],
   "source": [
    "all_states = [state for state in graph.get_state_history(thread) ]\n",
    "all_states[0].values[\"messages\"]"
   ]
  },
  {
   "cell_type": "code",
   "execution_count": 21,
   "id": "12e19798-25d8-49e8-8542-13d2b3bdf58e",
   "metadata": {},
   "outputs": [
    {
     "data": {
      "text/plain": [
       "StateSnapshot(values={'messages': [HumanMessage(content='Multiply 5 and 3', additional_kwargs={}, response_metadata={}, id='1b29d737-e89c-4c34-87c9-c13e4d17c878'), AIMessage(content='', additional_kwargs={'tool_calls': [{'id': 'call_qHU6OrJeWCVV6uvdjrrQy0Ql', 'function': {'arguments': '{\"a\":2,\"b\":3}', 'name': 'multiply'}, 'type': 'function'}], 'refusal': None}, response_metadata={'token_usage': {'completion_tokens': 17, 'prompt_tokens': 131, 'total_tokens': 148, 'completion_tokens_details': {'accepted_prediction_tokens': 0, 'audio_tokens': 0, 'reasoning_tokens': 0, 'rejected_prediction_tokens': 0}, 'prompt_tokens_details': {'audio_tokens': 0, 'cached_tokens': 0}}, 'model_name': 'gpt-4o-2024-08-06', 'system_fingerprint': 'fp_65564d8ba5', 'id': 'chatcmpl-CVLG4iX44crdEZJNB0V5P2prDL9se', 'service_tier': 'default', 'finish_reason': 'tool_calls', 'logprobs': None}, id='run--1e4f6f7d-1e10-4f32-8a20-5394c70b4001-0', tool_calls=[{'name': 'multiply', 'args': {'a': 2, 'b': 3}, 'id': 'call_qHU6OrJeWCVV6uvdjrrQy0Ql', 'type': 'tool_call'}], usage_metadata={'input_tokens': 131, 'output_tokens': 17, 'total_tokens': 148, 'input_token_details': {'audio': 0, 'cache_read': 0}, 'output_token_details': {'audio': 0, 'reasoning': 0}})]}, next=('tools',), config={'configurable': {'thread_id': '1', 'checkpoint_ns': '', 'checkpoint_id': '1f0b359f-0266-61ef-8001-cfde6827851e'}}, metadata={'source': 'update', 'step': 1, 'parents': {}}, created_at='2025-10-27T17:25:31.099385+00:00', parent_config={'configurable': {'thread_id': '1', 'checkpoint_ns': '', 'checkpoint_id': '1f0b359e-9246-64f6-8000-861eedfd77d2'}}, tasks=(PregelTask(id='ee4172f6-f3c2-fa33-54f2-7de3fb41b107', name='tools', path=('__pregel_pull', 'tools'), error=None, interrupts=(), state=None, result=None),), interrupts=())"
      ]
     },
     "execution_count": 21,
     "metadata": {},
     "output_type": "execute_result"
    }
   ],
   "source": [
    "graph.get_state({'configurable': {'thread_id': '1'}})"
   ]
  },
  {
   "cell_type": "markdown",
   "id": "78c641e2-b8e9-4461-b854-8725006a5eb6",
   "metadata": {},
   "source": [
    "Now, when we stream, the graph knows this checkpoint has never been executed.\n",
    "\n",
    "So, the graph runs, rather than simply re-playing."
   ]
  },
  {
   "cell_type": "code",
   "execution_count": 22,
   "id": "1c49f2a8-b325-45e4-b36c-17fab1b37cc0",
   "metadata": {},
   "outputs": [
    {
     "name": "stdout",
     "output_type": "stream",
     "text": [
      "==================================\u001b[1m Ai Message \u001b[0m==================================\n",
      "Tool Calls:\n",
      "  multiply (call_qHU6OrJeWCVV6uvdjrrQy0Ql)\n",
      " Call ID: call_qHU6OrJeWCVV6uvdjrrQy0Ql\n",
      "  Args:\n",
      "    a: 2\n",
      "    b: 3\n",
      "=================================\u001b[1m Tool Message \u001b[0m=================================\n",
      "Name: multiply\n",
      "\n",
      "6\n",
      "==================================\u001b[1m Ai Message \u001b[0m==================================\n",
      "\n",
      "The result of multiplying 5 and 3 is 15.\n"
     ]
    }
   ],
   "source": [
    "for event in graph.stream(None, fork_config, stream_mode=\"values\"):\n",
    "    event['messages'][-1].pretty_print()"
   ]
  },
  {
   "cell_type": "markdown",
   "id": "428d7f80-ee60-4147-b51f-ee3b0cf5cbba",
   "metadata": {},
   "source": [
    "Now, we can see the current state is the end of our agent run."
   ]
  },
  {
   "cell_type": "code",
   "execution_count": 23,
   "id": "132ef840-64c7-479c-ad34-3f177f4b2524",
   "metadata": {},
   "outputs": [
    {
     "data": {
      "text/plain": [
       "StateSnapshot(values={'messages': [HumanMessage(content='Multiply 5 and 3', additional_kwargs={}, response_metadata={}, id='1b29d737-e89c-4c34-87c9-c13e4d17c878'), AIMessage(content='', additional_kwargs={'tool_calls': [{'id': 'call_qHU6OrJeWCVV6uvdjrrQy0Ql', 'function': {'arguments': '{\"a\":2,\"b\":3}', 'name': 'multiply'}, 'type': 'function'}], 'refusal': None}, response_metadata={'token_usage': {'completion_tokens': 17, 'prompt_tokens': 131, 'total_tokens': 148, 'completion_tokens_details': {'accepted_prediction_tokens': 0, 'audio_tokens': 0, 'reasoning_tokens': 0, 'rejected_prediction_tokens': 0}, 'prompt_tokens_details': {'audio_tokens': 0, 'cached_tokens': 0}}, 'model_name': 'gpt-4o-2024-08-06', 'system_fingerprint': 'fp_65564d8ba5', 'id': 'chatcmpl-CVLG4iX44crdEZJNB0V5P2prDL9se', 'service_tier': 'default', 'finish_reason': 'tool_calls', 'logprobs': None}, id='run--1e4f6f7d-1e10-4f32-8a20-5394c70b4001-0', tool_calls=[{'name': 'multiply', 'args': {'a': 2, 'b': 3}, 'id': 'call_qHU6OrJeWCVV6uvdjrrQy0Ql', 'type': 'tool_call'}], usage_metadata={'input_tokens': 131, 'output_tokens': 17, 'total_tokens': 148, 'input_token_details': {'audio': 0, 'cache_read': 0}, 'output_token_details': {'audio': 0, 'reasoning': 0}}), ToolMessage(content='6', name='multiply', id='bf4f232b-4707-4f0a-adb5-512a1aab88f4', tool_call_id='call_qHU6OrJeWCVV6uvdjrrQy0Ql'), AIMessage(content='The result of multiplying 5 and 3 is 15.', additional_kwargs={'refusal': None}, response_metadata={'token_usage': {'completion_tokens': 14, 'prompt_tokens': 156, 'total_tokens': 170, 'completion_tokens_details': {'accepted_prediction_tokens': 0, 'audio_tokens': 0, 'reasoning_tokens': 0, 'rejected_prediction_tokens': 0}, 'prompt_tokens_details': {'audio_tokens': 0, 'cached_tokens': 0}}, 'model_name': 'gpt-4o-2024-08-06', 'system_fingerprint': 'fp_65564d8ba5', 'id': 'chatcmpl-CVLGGJxM9OMtCwHUViGJSTWwzYz50', 'service_tier': 'default', 'finish_reason': 'stop', 'logprobs': None}, id='run--86fc25cf-9dc6-4214-ab91-068720eaa836-0', usage_metadata={'input_tokens': 156, 'output_tokens': 14, 'total_tokens': 170, 'input_token_details': {'audio': 0, 'cache_read': 0}, 'output_token_details': {'audio': 0, 'reasoning': 0}})]}, next=(), config={'configurable': {'thread_id': '1', 'checkpoint_ns': '', 'checkpoint_id': '1f0b359f-17d8-62a1-8003-f63917eb90fe'}}, metadata={'source': 'loop', 'step': 3, 'parents': {}}, created_at='2025-10-27T17:25:33.348103+00:00', parent_config={'configurable': {'thread_id': '1', 'checkpoint_ns': '', 'checkpoint_id': '1f0b359f-030d-6740-8002-42e430db9ed0'}}, tasks=(), interrupts=())"
      ]
     },
     "execution_count": 23,
     "metadata": {},
     "output_type": "execute_result"
    }
   ],
   "source": [
    "graph.get_state({'configurable': {'thread_id': '1'}})"
   ]
  },
  {
   "attachments": {},
   "cell_type": "markdown",
   "id": "2ceb5f31-97b0-466c-9b3b-ae4df7cd462a",
   "metadata": {},
   "source": [
    "### Time travel with LangGraph API\n",
    "\n",
    "**⚠️ DISCLAIMER**\n",
    "\n",
    "Since the filming of these videos, we've updated Studio so that it can be run locally and opened in your browser. This is now the preferred way to run Studio (rather than using the Desktop App as shown in the video). See documentation [here](https://langchain-ai.github.io/langgraph/concepts/langgraph_studio/#local-development-server) on the local development server and [here](https://langchain-ai.github.io/langgraph/how-tos/local-studio/#run-the-development-server). To start the local development server, run the following command in your terminal in the `/studio` directory in this module:\n",
    "\n",
    "```\n",
    "langgraph dev\n",
    "```\n",
    "\n",
    "You should see the following output:\n",
    "```\n",
    "- 🚀 API: http://127.0.0.1:2024\n",
    "- 🎨 Studio UI: https://smith.langchain.com/studio/?baseUrl=http://127.0.0.1:2024\n",
    "- 📚 API Docs: http://127.0.0.1:2024/docs\n",
    "```\n",
    "\n",
    "Open your browser and navigate to the Studio UI: `https://smith.langchain.com/studio/?baseUrl=http://127.0.0.1:2024`.\n",
    "\n",
    "We connect to it via the SDK and show how the LangGraph API [supports time travel](https://langchain-ai.github.io/langgraph/cloud/how-tos/human_in_the_loop_time_travel/#initial-invocation). "
   ]
  },
  {
   "cell_type": "code",
   "execution_count": 24,
   "id": "891defdb-746c-48e4-8efa-bb5f138dc4bd",
   "metadata": {},
   "outputs": [],
   "source": [
    "if 'google.colab' in str(get_ipython()):\n",
    "    raise Exception(\"Unfortunately LangGraph Studio is currently not supported on Google Colab\")"
   ]
  },
  {
   "cell_type": "code",
   "execution_count": 25,
   "id": "a317925d-1788-4cfc-9c12-336b17b4d859",
   "metadata": {},
   "outputs": [],
   "source": [
    "from langgraph_sdk import get_client\n",
    "client = get_client(url=\"http://127.0.0.1:2024\")"
   ]
  },
  {
   "cell_type": "markdown",
   "id": "815d5e03-0ab8-4c7f-a1ee-f410b6aadc03",
   "metadata": {},
   "source": [
    "#### Re-playing \n",
    "\n",
    "Let's run our agent streaming `updates` to the state of the graph after each node is called."
   ]
  },
  {
   "cell_type": "code",
   "execution_count": 26,
   "id": "9d4d01da-7b64-4c92-96b7-29ec93332d0b",
   "metadata": {},
   "outputs": [
    {
     "name": "stdout",
     "output_type": "stream",
     "text": [
      "--------------------Assistant Node--------------------\n",
      "{'content': '', 'additional_kwargs': {'tool_calls': [{'id': 'call_QvR57AtBcj7v2koPOMKuW7Ed', 'function': {'arguments': '{\"a\":2,\"b\":3}', 'name': 'multiply'}, 'type': 'function'}], 'refusal': None}, 'response_metadata': {'token_usage': {'completion_tokens': 17, 'prompt_tokens': 134, 'total_tokens': 151, 'completion_tokens_details': {'accepted_prediction_tokens': 0, 'audio_tokens': 0, 'reasoning_tokens': 0, 'rejected_prediction_tokens': 0}, 'prompt_tokens_details': {'audio_tokens': 0, 'cached_tokens': 0}}, 'model_name': 'gpt-4o-2024-08-06', 'system_fingerprint': 'fp_65564d8ba5', 'id': 'chatcmpl-CVLGItSuxIXmgcPlErNcX6BPr39XG', 'service_tier': 'default', 'finish_reason': 'tool_calls', 'logprobs': None}, 'type': 'ai', 'name': None, 'id': 'run--7fb2554b-015f-4aa2-a86f-2b7316795770-0', 'example': False, 'tool_calls': [{'name': 'multiply', 'args': {'a': 2, 'b': 3}, 'id': 'call_QvR57AtBcj7v2koPOMKuW7Ed', 'type': 'tool_call'}], 'invalid_tool_calls': [], 'usage_metadata': {'input_tokens': 134, 'output_tokens': 17, 'total_tokens': 151, 'input_token_details': {'audio': 0, 'cache_read': 0}, 'output_token_details': {'audio': 0, 'reasoning': 0}}}\n",
      "--------------------Tools Node--------------------\n",
      "{'content': '6', 'additional_kwargs': {}, 'response_metadata': {}, 'type': 'tool', 'name': 'multiply', 'id': '2da9fe49-3f0d-4129-9705-991c05f1cce9', 'tool_call_id': 'call_QvR57AtBcj7v2koPOMKuW7Ed', 'artifact': None, 'status': 'success'}\n",
      "--------------------Assistant Node--------------------\n",
      "{'content': 'The product of 2 and 3 is 6.', 'additional_kwargs': {'refusal': None}, 'response_metadata': {'token_usage': {'completion_tokens': 13, 'prompt_tokens': 159, 'total_tokens': 172, 'completion_tokens_details': {'accepted_prediction_tokens': 0, 'audio_tokens': 0, 'reasoning_tokens': 0, 'rejected_prediction_tokens': 0}, 'prompt_tokens_details': {'audio_tokens': 0, 'cached_tokens': 0}}, 'model_name': 'gpt-4o-2024-08-06', 'system_fingerprint': 'fp_65564d8ba5', 'id': 'chatcmpl-CVLGJMeN0dvcj6AEy35vmXIl6rebM', 'service_tier': 'default', 'finish_reason': 'stop', 'logprobs': None}, 'type': 'ai', 'name': None, 'id': 'run--7143640a-c219-4853-ad67-b03ccff9ad06-0', 'example': False, 'tool_calls': [], 'invalid_tool_calls': [], 'usage_metadata': {'input_tokens': 159, 'output_tokens': 13, 'total_tokens': 172, 'input_token_details': {'audio': 0, 'cache_read': 0}, 'output_token_details': {'audio': 0, 'reasoning': 0}}}\n"
     ]
    }
   ],
   "source": [
    "initial_input = {\"messages\": HumanMessage(content=\"Multiply 2 and 3\")}\n",
    "thread = await client.threads.create()\n",
    "async for chunk in client.runs.stream(\n",
    "    thread[\"thread_id\"],\n",
    "    assistant_id = \"agent\",\n",
    "    input=initial_input,\n",
    "    stream_mode=\"updates\",\n",
    "):\n",
    "    if chunk.data:\n",
    "        assisant_node = chunk.data.get('assistant', {}).get('messages', [])\n",
    "        tool_node = chunk.data.get('tools', {}).get('messages', [])\n",
    "        if assisant_node:\n",
    "            print(\"-\" * 20+\"Assistant Node\"+\"-\" * 20)\n",
    "            print(assisant_node[-1])\n",
    "        elif tool_node:\n",
    "            print(\"-\" * 20+\"Tools Node\"+\"-\" * 20)\n",
    "            print(tool_node[-1])"
   ]
  },
  {
   "cell_type": "markdown",
   "id": "8cc3bab2",
   "metadata": {},
   "source": [
    "Now, let's look at **replaying** from a specified checkpoint. \n",
    "\n",
    "We simply need to pass the `checkpoint_id`."
   ]
  },
  {
   "cell_type": "code",
   "execution_count": 27,
   "id": "d8ecc4fd",
   "metadata": {},
   "outputs": [
    {
     "data": {
      "text/plain": [
       "{'values': {'messages': [{'content': 'Multiply 2 and 3',\n",
       "    'additional_kwargs': {},\n",
       "    'response_metadata': {},\n",
       "    'type': 'human',\n",
       "    'name': None,\n",
       "    'id': '4ecb59da-4613-4993-8ac0-ad3ab7104e2f',\n",
       "    'example': False}]},\n",
       " 'next': ['assistant'],\n",
       " 'tasks': [{'id': 'f41dab46-6259-b967-42a7-e9b7c2a0d8dd',\n",
       "   'name': 'assistant',\n",
       "   'path': ['__pregel_pull', 'assistant'],\n",
       "   'error': None,\n",
       "   'interrupts': [],\n",
       "   'checkpoint': None,\n",
       "   'state': None,\n",
       "   'result': {'messages': [{'content': '',\n",
       "      'additional_kwargs': {'tool_calls': [{'id': 'call_QvR57AtBcj7v2koPOMKuW7Ed',\n",
       "         'function': {'arguments': '{\"a\":2,\"b\":3}', 'name': 'multiply'},\n",
       "         'type': 'function'}],\n",
       "       'refusal': None},\n",
       "      'response_metadata': {'token_usage': {'completion_tokens': 17,\n",
       "        'prompt_tokens': 134,\n",
       "        'total_tokens': 151,\n",
       "        'completion_tokens_details': {'accepted_prediction_tokens': 0,\n",
       "         'audio_tokens': 0,\n",
       "         'reasoning_tokens': 0,\n",
       "         'rejected_prediction_tokens': 0},\n",
       "        'prompt_tokens_details': {'audio_tokens': 0, 'cached_tokens': 0}},\n",
       "       'model_name': 'gpt-4o-2024-08-06',\n",
       "       'system_fingerprint': 'fp_65564d8ba5',\n",
       "       'id': 'chatcmpl-CVLGItSuxIXmgcPlErNcX6BPr39XG',\n",
       "       'service_tier': 'default',\n",
       "       'finish_reason': 'tool_calls',\n",
       "       'logprobs': None},\n",
       "      'type': 'ai',\n",
       "      'name': None,\n",
       "      'id': 'run--7fb2554b-015f-4aa2-a86f-2b7316795770-0',\n",
       "      'example': False,\n",
       "      'tool_calls': [{'name': 'multiply',\n",
       "        'args': {'a': 2, 'b': 3},\n",
       "        'id': 'call_QvR57AtBcj7v2koPOMKuW7Ed',\n",
       "        'type': 'tool_call'}],\n",
       "      'invalid_tool_calls': [],\n",
       "      'usage_metadata': {'input_tokens': 134,\n",
       "       'output_tokens': 17,\n",
       "       'total_tokens': 151,\n",
       "       'input_token_details': {'audio': 0, 'cache_read': 0},\n",
       "       'output_token_details': {'audio': 0, 'reasoning': 0}}}]}}],\n",
       " 'metadata': {'langgraph_auth_user': None,\n",
       "  'langgraph_auth_user_id': '',\n",
       "  'langgraph_auth_permissions': [],\n",
       "  'langgraph_request_id': '3429455d-877b-447c-bd08-525ffdd94731',\n",
       "  'graph_id': 'agent',\n",
       "  'assistant_id': 'fe096781-5601-53d2-b2f6-0d3403f7e9ca',\n",
       "  'user_id': '',\n",
       "  'created_by': 'system',\n",
       "  'run_attempt': 1,\n",
       "  'langgraph_version': '0.6.10',\n",
       "  'langgraph_api_version': '0.4.42',\n",
       "  'langgraph_plan': 'developer',\n",
       "  'langgraph_host': 'self-hosted',\n",
       "  'langgraph_api_url': 'http://127.0.0.1:2024',\n",
       "  'run_id': '019a26b4-2c70-724b-8072-069ef550c493',\n",
       "  'thread_id': 'f7d886f8-2c5d-4d45-a23c-b76baaca402e',\n",
       "  'source': 'loop',\n",
       "  'step': 0,\n",
       "  'parents': {}},\n",
       " 'created_at': '2025-10-27T17:25:33.942627+00:00',\n",
       " 'checkpoint': {'checkpoint_id': '1f0b359f-1d83-6a11-8000-0064bdbc191d',\n",
       "  'thread_id': 'f7d886f8-2c5d-4d45-a23c-b76baaca402e',\n",
       "  'checkpoint_ns': ''},\n",
       " 'parent_checkpoint': {'checkpoint_id': '1f0b359f-1d82-6526-bfff-374720301866',\n",
       "  'thread_id': 'f7d886f8-2c5d-4d45-a23c-b76baaca402e',\n",
       "  'checkpoint_ns': ''},\n",
       " 'interrupts': [],\n",
       " 'checkpoint_id': '1f0b359f-1d83-6a11-8000-0064bdbc191d',\n",
       " 'parent_checkpoint_id': '1f0b359f-1d82-6526-bfff-374720301866'}"
      ]
     },
     "execution_count": 27,
     "metadata": {},
     "output_type": "execute_result"
    }
   ],
   "source": [
    "states = await client.threads.get_history(thread['thread_id'])\n",
    "to_replay = states[-2]\n",
    "to_replay"
   ]
  },
  {
   "cell_type": "markdown",
   "id": "e33f865a",
   "metadata": {},
   "source": [
    "Let's stream with `stream_mode=\"values\"` to see the full state at every node as we replay. "
   ]
  },
  {
   "cell_type": "code",
   "execution_count": 28,
   "id": "325e8272",
   "metadata": {},
   "outputs": [
    {
     "name": "stdout",
     "output_type": "stream",
     "text": [
      "Receiving new event of type: metadata...\n",
      "{'run_id': '019a26b4-3714-73cb-9163-f4f9b1bd4ac4', 'attempt': 1}\n",
      "\n",
      "\n",
      "\n",
      "Receiving new event of type: values...\n",
      "{'messages': [{'content': 'Multiply 2 and 3', 'additional_kwargs': {}, 'response_metadata': {}, 'type': 'human', 'name': None, 'id': '4ecb59da-4613-4993-8ac0-ad3ab7104e2f', 'example': False}]}\n",
      "\n",
      "\n",
      "\n",
      "Receiving new event of type: values...\n",
      "{'messages': [{'content': 'Multiply 2 and 3', 'additional_kwargs': {}, 'response_metadata': {}, 'type': 'human', 'name': None, 'id': '4ecb59da-4613-4993-8ac0-ad3ab7104e2f', 'example': False}, {'content': '', 'additional_kwargs': {'tool_calls': [{'id': 'call_gJ5hiR2nUnptvA03ouD31Tbq', 'function': {'arguments': '{\"a\":2,\"b\":3}', 'name': 'multiply'}, 'type': 'function'}], 'refusal': None}, 'response_metadata': {'token_usage': {'completion_tokens': 17, 'prompt_tokens': 134, 'total_tokens': 151, 'completion_tokens_details': {'accepted_prediction_tokens': 0, 'audio_tokens': 0, 'reasoning_tokens': 0, 'rejected_prediction_tokens': 0}, 'prompt_tokens_details': {'audio_tokens': 0, 'cached_tokens': 0}}, 'model_name': 'gpt-4o-2024-08-06', 'system_fingerprint': 'fp_65564d8ba5', 'id': 'chatcmpl-CVLGLo9xI4p2HhhUnxE2EIVEWVeGt', 'service_tier': 'default', 'finish_reason': 'tool_calls', 'logprobs': None}, 'type': 'ai', 'name': None, 'id': 'run--6640e994-7d8e-4e0b-b61a-68bee9141a9d-0', 'example': False, 'tool_calls': [{'name': 'multiply', 'args': {'a': 2, 'b': 3}, 'id': 'call_gJ5hiR2nUnptvA03ouD31Tbq', 'type': 'tool_call'}], 'invalid_tool_calls': [], 'usage_metadata': {'input_tokens': 134, 'output_tokens': 17, 'total_tokens': 151, 'input_token_details': {'audio': 0, 'cache_read': 0}, 'output_token_details': {'audio': 0, 'reasoning': 0}}}]}\n",
      "\n",
      "\n",
      "\n",
      "Receiving new event of type: values...\n",
      "{'messages': [{'content': 'Multiply 2 and 3', 'additional_kwargs': {}, 'response_metadata': {}, 'type': 'human', 'name': None, 'id': '4ecb59da-4613-4993-8ac0-ad3ab7104e2f', 'example': False}, {'content': '', 'additional_kwargs': {'tool_calls': [{'id': 'call_gJ5hiR2nUnptvA03ouD31Tbq', 'function': {'arguments': '{\"a\":2,\"b\":3}', 'name': 'multiply'}, 'type': 'function'}], 'refusal': None}, 'response_metadata': {'token_usage': {'completion_tokens': 17, 'prompt_tokens': 134, 'total_tokens': 151, 'completion_tokens_details': {'accepted_prediction_tokens': 0, 'audio_tokens': 0, 'reasoning_tokens': 0, 'rejected_prediction_tokens': 0}, 'prompt_tokens_details': {'audio_tokens': 0, 'cached_tokens': 0}}, 'model_name': 'gpt-4o-2024-08-06', 'system_fingerprint': 'fp_65564d8ba5', 'id': 'chatcmpl-CVLGLo9xI4p2HhhUnxE2EIVEWVeGt', 'service_tier': 'default', 'finish_reason': 'tool_calls', 'logprobs': None}, 'type': 'ai', 'name': None, 'id': 'run--6640e994-7d8e-4e0b-b61a-68bee9141a9d-0', 'example': False, 'tool_calls': [{'name': 'multiply', 'args': {'a': 2, 'b': 3}, 'id': 'call_gJ5hiR2nUnptvA03ouD31Tbq', 'type': 'tool_call'}], 'invalid_tool_calls': [], 'usage_metadata': {'input_tokens': 134, 'output_tokens': 17, 'total_tokens': 151, 'input_token_details': {'audio': 0, 'cache_read': 0}, 'output_token_details': {'audio': 0, 'reasoning': 0}}}, {'content': '6', 'additional_kwargs': {}, 'response_metadata': {}, 'type': 'tool', 'name': 'multiply', 'id': '8c356916-e454-4834-a869-e3db89781f63', 'tool_call_id': 'call_gJ5hiR2nUnptvA03ouD31Tbq', 'artifact': None, 'status': 'success'}]}\n",
      "\n",
      "\n",
      "\n",
      "Receiving new event of type: values...\n",
      "{'messages': [{'content': 'Multiply 2 and 3', 'additional_kwargs': {}, 'response_metadata': {}, 'type': 'human', 'name': None, 'id': '4ecb59da-4613-4993-8ac0-ad3ab7104e2f', 'example': False}, {'content': '', 'additional_kwargs': {'tool_calls': [{'id': 'call_gJ5hiR2nUnptvA03ouD31Tbq', 'function': {'arguments': '{\"a\":2,\"b\":3}', 'name': 'multiply'}, 'type': 'function'}], 'refusal': None}, 'response_metadata': {'token_usage': {'completion_tokens': 17, 'prompt_tokens': 134, 'total_tokens': 151, 'completion_tokens_details': {'accepted_prediction_tokens': 0, 'audio_tokens': 0, 'reasoning_tokens': 0, 'rejected_prediction_tokens': 0}, 'prompt_tokens_details': {'audio_tokens': 0, 'cached_tokens': 0}}, 'model_name': 'gpt-4o-2024-08-06', 'system_fingerprint': 'fp_65564d8ba5', 'id': 'chatcmpl-CVLGLo9xI4p2HhhUnxE2EIVEWVeGt', 'service_tier': 'default', 'finish_reason': 'tool_calls', 'logprobs': None}, 'type': 'ai', 'name': None, 'id': 'run--6640e994-7d8e-4e0b-b61a-68bee9141a9d-0', 'example': False, 'tool_calls': [{'name': 'multiply', 'args': {'a': 2, 'b': 3}, 'id': 'call_gJ5hiR2nUnptvA03ouD31Tbq', 'type': 'tool_call'}], 'invalid_tool_calls': [], 'usage_metadata': {'input_tokens': 134, 'output_tokens': 17, 'total_tokens': 151, 'input_token_details': {'audio': 0, 'cache_read': 0}, 'output_token_details': {'audio': 0, 'reasoning': 0}}}, {'content': '6', 'additional_kwargs': {}, 'response_metadata': {}, 'type': 'tool', 'name': 'multiply', 'id': '8c356916-e454-4834-a869-e3db89781f63', 'tool_call_id': 'call_gJ5hiR2nUnptvA03ouD31Tbq', 'artifact': None, 'status': 'success'}, {'content': 'The result of multiplying 2 and 3 is 6.', 'additional_kwargs': {'refusal': None}, 'response_metadata': {'token_usage': {'completion_tokens': 14, 'prompt_tokens': 159, 'total_tokens': 173, 'completion_tokens_details': {'accepted_prediction_tokens': 0, 'audio_tokens': 0, 'reasoning_tokens': 0, 'rejected_prediction_tokens': 0}, 'prompt_tokens_details': {'audio_tokens': 0, 'cached_tokens': 0}}, 'model_name': 'gpt-4o-2024-08-06', 'system_fingerprint': 'fp_65564d8ba5', 'id': 'chatcmpl-CVLGLVoW2ATQyJVWb5yKTCEoVNvTu', 'service_tier': 'default', 'finish_reason': 'stop', 'logprobs': None}, 'type': 'ai', 'name': None, 'id': 'run--60a95d85-6490-4202-b420-0c177875f7a1-0', 'example': False, 'tool_calls': [], 'invalid_tool_calls': [], 'usage_metadata': {'input_tokens': 159, 'output_tokens': 14, 'total_tokens': 173, 'input_token_details': {'audio': 0, 'cache_read': 0}, 'output_token_details': {'audio': 0, 'reasoning': 0}}}]}\n",
      "\n",
      "\n",
      "\n"
     ]
    }
   ],
   "source": [
    "async for chunk in client.runs.stream(\n",
    "    thread[\"thread_id\"],\n",
    "    assistant_id=\"agent\",\n",
    "    input=None,\n",
    "    stream_mode=\"values\",\n",
    "    checkpoint_id=to_replay['checkpoint_id']\n",
    "):      \n",
    "    print(f\"Receiving new event of type: {chunk.event}...\")\n",
    "    print(chunk.data)\n",
    "    print(\"\\n\\n\")"
   ]
  },
  {
   "cell_type": "markdown",
   "id": "14c153b3",
   "metadata": {},
   "source": [
    "We can all view this as streaming only `updates` to state made by the nodes that we reply."
   ]
  },
  {
   "cell_type": "code",
   "execution_count": 29,
   "id": "9e608e93",
   "metadata": {},
   "outputs": [
    {
     "name": "stdout",
     "output_type": "stream",
     "text": [
      "--------------------Assistant Node--------------------\n",
      "{'content': '', 'additional_kwargs': {'tool_calls': [{'id': 'call_TbCUMG6vV9rS1UtIC27EoqLo', 'function': {'arguments': '{\"a\":2,\"b\":3}', 'name': 'multiply'}, 'type': 'function'}], 'refusal': None}, 'response_metadata': {'token_usage': {'completion_tokens': 17, 'prompt_tokens': 134, 'total_tokens': 151, 'completion_tokens_details': {'accepted_prediction_tokens': 0, 'audio_tokens': 0, 'reasoning_tokens': 0, 'rejected_prediction_tokens': 0}, 'prompt_tokens_details': {'audio_tokens': 0, 'cached_tokens': 0}}, 'model_name': 'gpt-4o-2024-08-06', 'system_fingerprint': 'fp_65564d8ba5', 'id': 'chatcmpl-CVLGNuTpK0AwnA8yMphwRcOoa2Dcn', 'service_tier': 'default', 'finish_reason': 'tool_calls', 'logprobs': None}, 'type': 'ai', 'name': None, 'id': 'run--679795eb-79ee-4ad7-97a9-9137dd4fe9a4-0', 'example': False, 'tool_calls': [{'name': 'multiply', 'args': {'a': 2, 'b': 3}, 'id': 'call_TbCUMG6vV9rS1UtIC27EoqLo', 'type': 'tool_call'}], 'invalid_tool_calls': [], 'usage_metadata': {'input_tokens': 134, 'output_tokens': 17, 'total_tokens': 151, 'input_token_details': {'audio': 0, 'cache_read': 0}, 'output_token_details': {'audio': 0, 'reasoning': 0}}}\n",
      "--------------------Tools Node--------------------\n",
      "{'content': '6', 'additional_kwargs': {}, 'response_metadata': {}, 'type': 'tool', 'name': 'multiply', 'id': 'cd3a0438-0110-4dfe-8691-934000014841', 'tool_call_id': 'call_TbCUMG6vV9rS1UtIC27EoqLo', 'artifact': None, 'status': 'success'}\n",
      "--------------------Assistant Node--------------------\n",
      "{'content': 'The result of multiplying 2 and 3 is 6.', 'additional_kwargs': {'refusal': None}, 'response_metadata': {'token_usage': {'completion_tokens': 14, 'prompt_tokens': 159, 'total_tokens': 173, 'completion_tokens_details': {'accepted_prediction_tokens': 0, 'audio_tokens': 0, 'reasoning_tokens': 0, 'rejected_prediction_tokens': 0}, 'prompt_tokens_details': {'audio_tokens': 0, 'cached_tokens': 0}}, 'model_name': 'gpt-4o-2024-08-06', 'system_fingerprint': 'fp_65564d8ba5', 'id': 'chatcmpl-CVLGOG0HHqrgJgApNc4wGAJz5rfKd', 'service_tier': 'default', 'finish_reason': 'stop', 'logprobs': None}, 'type': 'ai', 'name': None, 'id': 'run--c3baea20-e8dd-4206-9f89-e3fb47622f09-0', 'example': False, 'tool_calls': [], 'invalid_tool_calls': [], 'usage_metadata': {'input_tokens': 159, 'output_tokens': 14, 'total_tokens': 173, 'input_token_details': {'audio': 0, 'cache_read': 0}, 'output_token_details': {'audio': 0, 'reasoning': 0}}}\n"
     ]
    }
   ],
   "source": [
    "async for chunk in client.runs.stream(\n",
    "    thread[\"thread_id\"],\n",
    "    assistant_id=\"agent\",\n",
    "    input=None,\n",
    "    stream_mode=\"updates\",\n",
    "    checkpoint_id=to_replay['checkpoint_id']\n",
    "):\n",
    "    if chunk.data:\n",
    "        assisant_node = chunk.data.get('assistant', {}).get('messages', [])\n",
    "        tool_node = chunk.data.get('tools', {}).get('messages', [])\n",
    "        if assisant_node:\n",
    "            print(\"-\" * 20+\"Assistant Node\"+\"-\" * 20)\n",
    "            print(assisant_node[-1])\n",
    "        elif tool_node:\n",
    "            print(\"-\" * 20+\"Tools Node\"+\"-\" * 20)\n",
    "            print(tool_node[-1])"
   ]
  },
  {
   "cell_type": "markdown",
   "id": "8e66e0e8",
   "metadata": {},
   "source": [
    "#### Forking\n",
    "\n",
    "Now, let's look at forking.\n",
    "\n",
    "Let's get the same step as we worked with above, the human input.\n",
    "\n",
    "Let's create a new thread with our agent."
   ]
  },
  {
   "cell_type": "code",
   "execution_count": 30,
   "id": "01af5ed4",
   "metadata": {},
   "outputs": [
    {
     "name": "stdout",
     "output_type": "stream",
     "text": [
      "--------------------Assistant Node--------------------\n",
      "{'content': '', 'additional_kwargs': {'tool_calls': [{'id': 'call_tu2XR90AlXRppp8tckXq3hSZ', 'function': {'arguments': '{\"a\":2,\"b\":3}', 'name': 'multiply'}, 'type': 'function'}], 'refusal': None}, 'response_metadata': {'token_usage': {'completion_tokens': 17, 'prompt_tokens': 134, 'total_tokens': 151, 'completion_tokens_details': {'accepted_prediction_tokens': 0, 'audio_tokens': 0, 'reasoning_tokens': 0, 'rejected_prediction_tokens': 0}, 'prompt_tokens_details': {'audio_tokens': 0, 'cached_tokens': 0}}, 'model_name': 'gpt-4o-2024-08-06', 'system_fingerprint': 'fp_65564d8ba5', 'id': 'chatcmpl-CVLGQ3oIrFImZwl32V4N5tm6LBlae', 'service_tier': 'default', 'finish_reason': 'tool_calls', 'logprobs': None}, 'type': 'ai', 'name': None, 'id': 'run--79ba293c-ad3a-4575-b51c-50c3f1dc2bf1-0', 'example': False, 'tool_calls': [{'name': 'multiply', 'args': {'a': 2, 'b': 3}, 'id': 'call_tu2XR90AlXRppp8tckXq3hSZ', 'type': 'tool_call'}], 'invalid_tool_calls': [], 'usage_metadata': {'input_tokens': 134, 'output_tokens': 17, 'total_tokens': 151, 'input_token_details': {'audio': 0, 'cache_read': 0}, 'output_token_details': {'audio': 0, 'reasoning': 0}}}\n",
      "--------------------Tools Node--------------------\n",
      "{'content': '6', 'additional_kwargs': {}, 'response_metadata': {}, 'type': 'tool', 'name': 'multiply', 'id': 'df7f08bf-06a5-4da1-9bdb-6d1c784071cc', 'tool_call_id': 'call_tu2XR90AlXRppp8tckXq3hSZ', 'artifact': None, 'status': 'success'}\n",
      "--------------------Assistant Node--------------------\n",
      "{'content': 'The result of multiplying 2 and 3 is 6.', 'additional_kwargs': {'refusal': None}, 'response_metadata': {'token_usage': {'completion_tokens': 14, 'prompt_tokens': 159, 'total_tokens': 173, 'completion_tokens_details': {'accepted_prediction_tokens': 0, 'audio_tokens': 0, 'reasoning_tokens': 0, 'rejected_prediction_tokens': 0}, 'prompt_tokens_details': {'audio_tokens': 0, 'cached_tokens': 0}}, 'model_name': 'gpt-4o-2024-08-06', 'system_fingerprint': 'fp_65564d8ba5', 'id': 'chatcmpl-CVLGRFgB94P0qK2YnWe6XCVRmhAde', 'service_tier': 'default', 'finish_reason': 'stop', 'logprobs': None}, 'type': 'ai', 'name': None, 'id': 'run--9c63f66d-57c9-4dca-95d0-dacdff77b715-0', 'example': False, 'tool_calls': [], 'invalid_tool_calls': [], 'usage_metadata': {'input_tokens': 159, 'output_tokens': 14, 'total_tokens': 173, 'input_token_details': {'audio': 0, 'cache_read': 0}, 'output_token_details': {'audio': 0, 'reasoning': 0}}}\n"
     ]
    }
   ],
   "source": [
    "initial_input = {\"messages\": HumanMessage(content=\"Multiply 2 and 3\")}\n",
    "thread = await client.threads.create()\n",
    "async for chunk in client.runs.stream(\n",
    "    thread[\"thread_id\"],\n",
    "    assistant_id=\"agent\",\n",
    "    input=initial_input,\n",
    "    stream_mode=\"updates\",\n",
    "):\n",
    "    if chunk.data:\n",
    "        assisant_node = chunk.data.get('assistant', {}).get('messages', [])\n",
    "        tool_node = chunk.data.get('tools', {}).get('messages', [])\n",
    "        if assisant_node:\n",
    "            print(\"-\" * 20+\"Assistant Node\"+\"-\" * 20)\n",
    "            print(assisant_node[-1])\n",
    "        elif tool_node:\n",
    "            print(\"-\" * 20+\"Tools Node\"+\"-\" * 20)\n",
    "            print(tool_node[-1])"
   ]
  },
  {
   "cell_type": "code",
   "execution_count": 31,
   "id": "3dbc8795-c3f5-4559-a00e-dc410c0a927f",
   "metadata": {},
   "outputs": [
    {
     "data": {
      "text/plain": [
       "{'messages': [{'content': 'Multiply 2 and 3',\n",
       "   'additional_kwargs': {},\n",
       "   'response_metadata': {},\n",
       "   'type': 'human',\n",
       "   'name': None,\n",
       "   'id': '8c04d02a-a3d0-4473-ac32-87688d74084f',\n",
       "   'example': False}]}"
      ]
     },
     "execution_count": 31,
     "metadata": {},
     "output_type": "execute_result"
    }
   ],
   "source": [
    "states = await client.threads.get_history(thread['thread_id'])\n",
    "to_fork = states[-2]\n",
    "to_fork['values']"
   ]
  },
  {
   "cell_type": "code",
   "execution_count": 32,
   "id": "11e6cde1-0388-43ea-b994-1c4e9ca1199b",
   "metadata": {},
   "outputs": [
    {
     "data": {
      "text/plain": [
       "'8c04d02a-a3d0-4473-ac32-87688d74084f'"
      ]
     },
     "execution_count": 32,
     "metadata": {},
     "output_type": "execute_result"
    }
   ],
   "source": [
    "to_fork['values']['messages'][0]['id']"
   ]
  },
  {
   "cell_type": "code",
   "execution_count": 33,
   "id": "0c1e2300-c8b2-4994-a96d-1be19c04b6a8",
   "metadata": {},
   "outputs": [
    {
     "data": {
      "text/plain": [
       "['assistant']"
      ]
     },
     "execution_count": 33,
     "metadata": {},
     "output_type": "execute_result"
    }
   ],
   "source": [
    "to_fork['next']"
   ]
  },
  {
   "cell_type": "code",
   "execution_count": 34,
   "id": "9d31d5aa-524f-42f4-ba7e-713a029610d6",
   "metadata": {},
   "outputs": [
    {
     "data": {
      "text/plain": [
       "'1f0b359f-6eca-64bc-8000-4806ef1667fd'"
      ]
     },
     "execution_count": 34,
     "metadata": {},
     "output_type": "execute_result"
    }
   ],
   "source": [
    "to_fork['checkpoint_id']"
   ]
  },
  {
   "cell_type": "markdown",
   "id": "8f11e1d9-9fe7-4243-a06f-9b07e38a12ad",
   "metadata": {},
   "source": [
    "Let's edit the state.\n",
    "\n",
    "Remember how our reducer on `messages` works: \n",
    "\n",
    "* It will append, unless we supply a message ID.\n",
    "* We supply the message ID to overwrite the message, rather than appending to state!"
   ]
  },
  {
   "cell_type": "code",
   "execution_count": 35,
   "id": "0198f1b8-2f57-4c6e-ac6a-c6fb80cce0bd",
   "metadata": {},
   "outputs": [],
   "source": [
    "forked_input = {\"messages\": HumanMessage(content=\"Multiply 3 and 3\",\n",
    "                                         id=to_fork['values']['messages'][0]['id'])}\n",
    "\n",
    "forked_config = await client.threads.update_state(\n",
    "    thread[\"thread_id\"],\n",
    "    forked_input,\n",
    "    checkpoint_id=to_fork['checkpoint_id']\n",
    ")"
   ]
  },
  {
   "cell_type": "code",
   "execution_count": 36,
   "id": "1dcd5b8e-6bb1-4967-84cf-4af710b8bf46",
   "metadata": {},
   "outputs": [
    {
     "data": {
      "text/plain": [
       "{'checkpoint': {'thread_id': '45776888-1ce5-45a1-8b97-9541f1761a69',\n",
       "  'checkpoint_ns': '',\n",
       "  'checkpoint_id': '1f0b359f-7df6-6dde-8001-f68248cb31bf'},\n",
       " 'configurable': {'thread_id': '45776888-1ce5-45a1-8b97-9541f1761a69',\n",
       "  'checkpoint_ns': '',\n",
       "  'checkpoint_id': '1f0b359f-7df6-6dde-8001-f68248cb31bf'},\n",
       " 'checkpoint_id': '1f0b359f-7df6-6dde-8001-f68248cb31bf'}"
      ]
     },
     "execution_count": 36,
     "metadata": {},
     "output_type": "execute_result"
    }
   ],
   "source": [
    "forked_config"
   ]
  },
  {
   "cell_type": "code",
   "execution_count": 37,
   "id": "015ac68a-5cc1-4c42-90a2-5b2b4865a153",
   "metadata": {},
   "outputs": [
    {
     "data": {
      "text/plain": [
       "{'values': {'messages': [{'content': 'Multiply 3 and 3',\n",
       "    'additional_kwargs': {},\n",
       "    'response_metadata': {},\n",
       "    'type': 'human',\n",
       "    'name': None,\n",
       "    'id': '8c04d02a-a3d0-4473-ac32-87688d74084f',\n",
       "    'example': False},\n",
       "   {'content': '',\n",
       "    'additional_kwargs': {'tool_calls': [{'id': 'call_tu2XR90AlXRppp8tckXq3hSZ',\n",
       "       'function': {'arguments': '{\"a\":2,\"b\":3}', 'name': 'multiply'},\n",
       "       'type': 'function'}],\n",
       "     'refusal': None},\n",
       "    'response_metadata': {'token_usage': {'completion_tokens': 17,\n",
       "      'prompt_tokens': 134,\n",
       "      'total_tokens': 151,\n",
       "      'completion_tokens_details': {'accepted_prediction_tokens': 0,\n",
       "       'audio_tokens': 0,\n",
       "       'reasoning_tokens': 0,\n",
       "       'rejected_prediction_tokens': 0},\n",
       "      'prompt_tokens_details': {'audio_tokens': 0, 'cached_tokens': 0}},\n",
       "     'model_name': 'gpt-4o-2024-08-06',\n",
       "     'system_fingerprint': 'fp_65564d8ba5',\n",
       "     'id': 'chatcmpl-CVLGQ3oIrFImZwl32V4N5tm6LBlae',\n",
       "     'service_tier': 'default',\n",
       "     'finish_reason': 'tool_calls',\n",
       "     'logprobs': None},\n",
       "    'type': 'ai',\n",
       "    'name': None,\n",
       "    'id': 'run--79ba293c-ad3a-4575-b51c-50c3f1dc2bf1-0',\n",
       "    'example': False,\n",
       "    'tool_calls': [{'name': 'multiply',\n",
       "      'args': {'a': 2, 'b': 3},\n",
       "      'id': 'call_tu2XR90AlXRppp8tckXq3hSZ',\n",
       "      'type': 'tool_call'}],\n",
       "    'invalid_tool_calls': [],\n",
       "    'usage_metadata': {'input_tokens': 134,\n",
       "     'output_tokens': 17,\n",
       "     'total_tokens': 151,\n",
       "     'input_token_details': {'audio': 0, 'cache_read': 0},\n",
       "     'output_token_details': {'audio': 0, 'reasoning': 0}}}]},\n",
       " 'next': ['tools'],\n",
       " 'tasks': [{'id': '39378fa1-1f0a-f4d1-d6e7-b1e8fd9e5435',\n",
       "   'name': 'tools',\n",
       "   'path': ['__pregel_pull', 'tools'],\n",
       "   'error': None,\n",
       "   'interrupts': [],\n",
       "   'checkpoint': None,\n",
       "   'state': None,\n",
       "   'result': None}],\n",
       " 'metadata': {'graph_id': 'agent',\n",
       "  'thread_id': '45776888-1ce5-45a1-8b97-9541f1761a69',\n",
       "  'checkpoint_id': '1f0b359f-6eca-64bc-8000-4806ef1667fd',\n",
       "  'checkpoint_ns': '',\n",
       "  'source': 'update',\n",
       "  'step': 1,\n",
       "  'parents': {}},\n",
       " 'created_at': '2025-10-27T17:25:44.056157+00:00',\n",
       " 'checkpoint': {'checkpoint_id': '1f0b359f-7df6-6dde-8001-f68248cb31bf',\n",
       "  'thread_id': '45776888-1ce5-45a1-8b97-9541f1761a69',\n",
       "  'checkpoint_ns': ''},\n",
       " 'parent_checkpoint': {'checkpoint_id': '1f0b359f-6eca-64bc-8000-4806ef1667fd',\n",
       "  'thread_id': '45776888-1ce5-45a1-8b97-9541f1761a69',\n",
       "  'checkpoint_ns': ''},\n",
       " 'interrupts': [],\n",
       " 'checkpoint_id': '1f0b359f-7df6-6dde-8001-f68248cb31bf',\n",
       " 'parent_checkpoint_id': '1f0b359f-6eca-64bc-8000-4806ef1667fd'}"
      ]
     },
     "execution_count": 37,
     "metadata": {},
     "output_type": "execute_result"
    }
   ],
   "source": [
    "states = await client.threads.get_history(thread['thread_id'])\n",
    "states[0]"
   ]
  },
  {
   "cell_type": "markdown",
   "id": "3de80029-b987-49c5-890d-6cd70cbc8de7",
   "metadata": {},
   "source": [
    "To rerun, we pass in the `checkpoint_id`."
   ]
  },
  {
   "cell_type": "code",
   "execution_count": 38,
   "id": "da005240-d3f0-4c89-9aca-dfcb5d410ceb",
   "metadata": {},
   "outputs": [
    {
     "name": "stdout",
     "output_type": "stream",
     "text": [
      "--------------------Tools Node--------------------\n",
      "{'content': '6', 'additional_kwargs': {}, 'response_metadata': {}, 'type': 'tool', 'name': 'multiply', 'id': '7c41d979-d424-4f69-953c-61187dc868f0', 'tool_call_id': 'call_tu2XR90AlXRppp8tckXq3hSZ', 'artifact': None, 'status': 'success'}\n",
      "--------------------Assistant Node--------------------\n",
      "{'content': 'The result of multiplying 3 and 3 is 9.', 'additional_kwargs': {'refusal': None}, 'response_metadata': {'token_usage': {'completion_tokens': 14, 'prompt_tokens': 159, 'total_tokens': 173, 'completion_tokens_details': {'accepted_prediction_tokens': 0, 'audio_tokens': 0, 'reasoning_tokens': 0, 'rejected_prediction_tokens': 0}, 'prompt_tokens_details': {'audio_tokens': 0, 'cached_tokens': 0}}, 'model_name': 'gpt-4o-2024-08-06', 'system_fingerprint': 'fp_65564d8ba5', 'id': 'chatcmpl-CVLGTThgkBuJ82frDojjGsu85wDjk', 'service_tier': 'default', 'finish_reason': 'stop', 'logprobs': None}, 'type': 'ai', 'name': None, 'id': 'run--8ca5bb4a-2c78-4644-b097-83dc7bd18090-0', 'example': False, 'tool_calls': [], 'invalid_tool_calls': [], 'usage_metadata': {'input_tokens': 159, 'output_tokens': 14, 'total_tokens': 173, 'input_token_details': {'audio': 0, 'cache_read': 0}, 'output_token_details': {'audio': 0, 'reasoning': 0}}}\n"
     ]
    }
   ],
   "source": [
    "async for chunk in client.runs.stream(\n",
    "    thread[\"thread_id\"],\n",
    "    assistant_id=\"agent\",\n",
    "    input=None,\n",
    "    stream_mode=\"updates\",\n",
    "    checkpoint_id=forked_config['checkpoint_id']\n",
    "):\n",
    "    if chunk.data:\n",
    "        assisant_node = chunk.data.get('assistant', {}).get('messages', [])\n",
    "        tool_node = chunk.data.get('tools', {}).get('messages', [])\n",
    "        if assisant_node:\n",
    "            print(\"-\" * 20+\"Assistant Node\"+\"-\" * 20)\n",
    "            print(assisant_node[-1])\n",
    "        elif tool_node:\n",
    "            print(\"-\" * 20+\"Tools Node\"+\"-\" * 20)\n",
    "            print(tool_node[-1])"
   ]
  },
  {
   "cell_type": "markdown",
   "id": "36956571-a2b8-4f1b-8e30-51f02f155a6f",
   "metadata": {},
   "source": [
    "### LangGraph Studio\n",
    "\n",
    "Let's look at forking in the Studio UI with our `agent`, which uses `module-1/studio/agent.py` set in `module-1/studio/langgraph.json`."
   ]
  },
  {
   "attachments": {
    "image.png": {
     "image/png": "[encoded data removed]"
    }
   },
   "cell_type": "markdown",
   "id": "11e4e2c4",
   "metadata": {},
   "source": [
    "![image.png](attachment:image.png)"
   ]
  },
  {
   "cell_type": "markdown",
   "id": "dc87c12e",
   "metadata": {},
   "source": [
    "# some tinkering"
   ]
  },
  {
   "cell_type": "code",
   "execution_count": 39,
   "id": "f2d6307f",
   "metadata": {},
   "outputs": [
    {
     "data": {
      "image/png": "[encoded data removed]",
      "text/plain": [
       "<IPython.core.display.Image object>"
      ]
     },
     "metadata": {},
     "output_type": "display_data"
    },
    {
     "name": "stdout",
     "output_type": "stream",
     "text": [
      "=== Initial Run ===\n",
      "================================\u001b[1m Human Message \u001b[0m=================================\n",
      "\n",
      "Build a web app\n",
      "==================================\u001b[1m Ai Message \u001b[0m==================================\n",
      "\n",
      "Plan created: Break down 'Build a web app' into 3 steps\n",
      "==================================\u001b[1m Ai Message \u001b[0m==================================\n",
      "\n",
      "Executed all 3 steps successfully!\n",
      "\n",
      "=== Viewing History ===\n",
      "Total checkpoints: 4\n",
      "\n",
      "=== Replaying from Planner ===\n",
      "Replaying from checkpoint: 1f0b35ac...\n",
      "================================\u001b[1m Human Message \u001b[0m=================================\n",
      "\n",
      "Build a web app\n",
      "==================================\u001b[1m Ai Message \u001b[0m==================================\n",
      "\n",
      "Plan created: Break down 'Build a web app' into 3 steps\n",
      "==================================\u001b[1m Ai Message \u001b[0m==================================\n",
      "\n",
      "Executed all 3 steps successfully!\n",
      "\n",
      "=== Forking with New Task ===\n",
      "Created fork with checkpoint: 1f0b35ac...\n",
      "==================================\u001b[1m Ai Message \u001b[0m==================================\n",
      "\n",
      "Executed all 3 steps successfully!\n",
      "\n",
      "=== Final History ===\n",
      "Total checkpoints after fork: 7\n",
      "Checkpoints:\n",
      "1. 1f0b35ac - Messages: 3\n",
      "2. 1f0b35ac - Messages: 3\n",
      "3. 1f0b35ac - Messages: 2\n",
      "4. 1f0b35ac - Messages: 3\n",
      "5. 1f0b35ac - Messages: 2\n"
     ]
    }
   ],
   "source": [
    "# Simple Time Travel Demo: Task Planner with History\n",
    "\n",
    "from langgraph.graph import StateGraph, START, END, MessagesState\n",
    "from langgraph.checkpoint.memory import MemorySaver\n",
    "from langchain_core.messages import HumanMessage, AIMessage\n",
    "from IPython.display import Image, display\n",
    "\n",
    "def planner(state: MessagesState):\n",
    "    \"\"\"Creates a task plan\"\"\"\n",
    "    plan = AIMessage(content=f\"Plan created: Break down '{state['messages'][-1].content}' into 3 steps\")\n",
    "    return {\"messages\": [plan]}\n",
    "\n",
    "def executor(state: MessagesState):\n",
    "    \"\"\"Executes the plan\"\"\"\n",
    "    result = AIMessage(content=\"Executed all 3 steps successfully!\")\n",
    "    return {\"messages\": [result]}\n",
    "\n",
    "# Build graph with memory\n",
    "builder = StateGraph(MessagesState)\n",
    "builder.add_node(\"planner\", planner)\n",
    "builder.add_node(\"executor\", executor)\n",
    "builder.add_edge(START, \"planner\")\n",
    "builder.add_edge(\"planner\", \"executor\")\n",
    "builder.add_edge(\"executor\", END)\n",
    "\n",
    "memory = MemorySaver()\n",
    "graph = builder.compile(checkpointer=memory)\n",
    "display(Image(graph.get_graph().draw_mermaid_png()))\n",
    "\n",
    "# Initial run\n",
    "thread = {\"configurable\": {\"thread_id\": \"demo\"}}\n",
    "print(\"=== Initial Run ===\")\n",
    "for event in graph.stream({\"messages\": [HumanMessage(\"Build a web app\")]}, thread, stream_mode=\"values\"):\n",
    "    event['messages'][-1].pretty_print()\n",
    "\n",
    "# View history\n",
    "print(\"\\n=== Viewing History ===\")\n",
    "all_states = [s for s in graph.get_state_history(thread)]\n",
    "print(f\"Total checkpoints: {len(all_states)}\")\n",
    "\n",
    "# Replay from planner checkpoint\n",
    "print(\"\\n=== Replaying from Planner ===\")\n",
    "to_replay = all_states[-2]  # State after planner, before executor\n",
    "print(f\"Replaying from checkpoint: {to_replay.config['configurable']['checkpoint_id'][:8]}...\")\n",
    "for event in graph.stream(None, to_replay.config, stream_mode=\"values\"):\n",
    "    event['messages'][-1].pretty_print()\n",
    "\n",
    "# Fork with different input\n",
    "print(\"\\n=== Forking with New Task ===\")\n",
    "to_fork = all_states[-3]  # Initial state with human input\n",
    "fork_config = graph.update_state(\n",
    "    to_fork.config,\n",
    "    {\"messages\": [HumanMessage(\"Build a mobile app\", id=to_fork.values[\"messages\"][0].id)]}\n",
    ")\n",
    "print(f\"Created fork with checkpoint: {fork_config['configurable']['checkpoint_id'][:8]}...\")\n",
    "for event in graph.stream(None, fork_config, stream_mode=\"values\"):\n",
    "    event['messages'][-1].pretty_print()\n",
    "\n",
    "# Show final history\n",
    "print(\"\\n=== Final History ===\")\n",
    "final_states = [s for s in graph.get_state_history(thread)]\n",
    "print(f\"Total checkpoints after fork: {len(final_states)}\")\n",
    "print(\"Checkpoints:\")\n",
    "for i, state in enumerate(final_states[:5]):\n",
    "    print(f\"{i+1}. {state.config['configurable']['checkpoint_id'][:8]} - Messages: {len(state.values['messages'])}\")"
   ]
  },
  {
   "cell_type": "code",
   "execution_count": null,
   "id": "35f1b960",
   "metadata": {},
   "outputs": [],
   "source": []
  }
 ],
 "metadata": {
  "kernelspec": {
   "display_name": "ArnavAditya-langgraph-mat496",
   "language": "python",
   "name": "python3"
  },
  "language_info": {
   "codemirror_mode": {
    "name": "ipython",
    "version": 3
   },
   "file_extension": ".py",
   "mimetype": "text/x-python",
   "name": "python",
   "nbconvert_exporter": "python",
   "pygments_lexer": "ipython3",
   "version": "3.13.7"
  }
 },
 "nbformat": 4,
 "nbformat_minor": 5
}
